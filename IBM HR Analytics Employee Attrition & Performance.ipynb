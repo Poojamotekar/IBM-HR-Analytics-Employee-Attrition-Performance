{
 "cells": [
  {
   "cell_type": "code",
   "execution_count": null,
   "id": "6a6b7c2b-589f-42ca-8811-2c96c9335d98",
   "metadata": {},
   "outputs": [],
   "source": [
    "# 📚 Basic Libraries\n",
    "import pandas as pd\n",
    "import numpy as np\n",
    "\n",
    "# 📊 Visualizations\n",
    "import matplotlib.pyplot as plt\n",
    "import seaborn as sns\n",
    "import plotly.express as px\n",
    "import plotly.graph_objects as go\n",
    "\n",
    "# 🤖 Machine Learning\n",
    "from sklearn.model_selection import train_test_split\n",
    "from sklearn.linear_model import LinearRegression\n",
    "from sklearn.metrics import r2_score, mean_squared_error, mean_absolute_error \n",
    "from sklearn.metrics import roc_curve, confusion_matrix, ConfusionMatrixDisplay\n",
    "# ⚙️ Settings\n",
    "pd.set_option('display.max_columns', None) # display all columns\n",
    "import warnings\n",
    "warnings.filterwarnings('ignore') # ignore warnings"
   ]
  },
  {
   "cell_type": "code",
   "execution_count": null,
   "id": "b438ab7f-c39b-4926-8de1-e08dbe151dbb",
   "metadata": {},
   "outputs": [],
   "source": [
    "dataset=pd.read_csv('WA_Fn-UseC_-HR-Employee-Attrition.csv')"
   ]
  },
  {
   "cell_type": "markdown",
   "id": "1df87946-e3c2-49b7-856e-2955516246c5",
   "metadata": {},
   "source": [
    "### Overview\n",
    "Uncover the factors that lead to employee attrition and explore important questions such as ‘show me a breakdown of distance from home by job role and attrition’ or ‘compare average monthly income by education and attrition’. This is a fictional data set created by IBM data scientists.\n",
    "\n",
    "## Features\n",
    "Education\n",
    "\n",
    "1 'Below College'\n",
    "2 'College'\n",
    "3 'Bachelor'\n",
    "4 'Master'\n",
    "5 'Doctor'\n",
    "\n",
    "EnvironmentSatisfaction\n",
    "\n",
    "1 'Low'\n",
    "2 'Medium'\n",
    "3 'High'\n",
    "4 'Very High'\n",
    "\n",
    "JobInvolvement\n",
    "\n",
    "1 'Low'\n",
    "2 'Medium'\n",
    "3 'High'\n",
    "4 'Very High'\n",
    "\n",
    "JobSatisfaction\n",
    "\n",
    "1 'Low'\n",
    "2 'Medium'\n",
    "3 'High'\n",
    "4 'Very High'\n",
    "\n",
    "PerformanceRating\n",
    "\n",
    "1 'Low'\n",
    "2 'Good'\n",
    "3 'Excellent'\n",
    "4 'Outstanding'\n",
    "\n",
    "RelationshipSatisfaction\n",
    "\n",
    "1 'Low'\n",
    "2 'Medium'\n",
    "3 'High'\n",
    "4 'Very High'\n",
    "\n",
    "WorkLifeBalance\n",
    "\n",
    "1 'Bad'\n",
    "2 'Good'\n",
    "3 'Better'\n",
    "4 'Best'"
   ]
  },
  {
   "cell_type": "code",
   "execution_count": null,
   "id": "82b68bfd-9c1d-4957-a0dd-d37c4cc603da",
   "metadata": {},
   "outputs": [],
   "source": [
    "dataset.head()"
   ]
  },
  {
   "cell_type": "code",
   "execution_count": null,
   "id": "ee38ffe5-ed7d-47c0-b0b4-1b8536c88309",
   "metadata": {},
   "outputs": [],
   "source": [
    "dataset.shape"
   ]
  },
  {
   "cell_type": "code",
   "execution_count": null,
   "id": "33b70568-ff71-4c4a-bd7b-e95ad2a3a9ce",
   "metadata": {},
   "outputs": [],
   "source": [
    "dataset.info()"
   ]
  },
  {
   "cell_type": "code",
   "execution_count": null,
   "id": "7b50d572-3fa9-4f3f-8c44-cda3da57e81d",
   "metadata": {},
   "outputs": [],
   "source": [
    "dataset.isna().sum()"
   ]
  },
  {
   "cell_type": "code",
   "execution_count": null,
   "id": "0deeae20-e047-4837-a6a7-ad932e438729",
   "metadata": {},
   "outputs": [],
   "source": [
    "dataset.duplicated().value_counts()"
   ]
  },
  {
   "cell_type": "code",
   "execution_count": null,
   "id": "9c96b752-8e04-4a54-9bde-b40d7a128791",
   "metadata": {},
   "outputs": [],
   "source": [
    "dataset.columns = dataset.columns.str.lower().str.replace(\" \", \"_\")"
   ]
  },
  {
   "cell_type": "code",
   "execution_count": null,
   "id": "8a4f74a5-df9d-4e5f-ac3d-c6ea0227d41b",
   "metadata": {},
   "outputs": [],
   "source": [
    "df=dataset.copy()"
   ]
  },
  {
   "cell_type": "code",
   "execution_count": null,
   "id": "ae4bbc07-d235-47ba-9547-830d828453f6",
   "metadata": {},
   "outputs": [],
   "source": [
    "df.eq(\" \").sum()"
   ]
  },
  {
   "cell_type": "code",
   "execution_count": null,
   "id": "7eae60aa-bec8-48e0-8c67-72891ec80da5",
   "metadata": {},
   "outputs": [],
   "source": [
    "df.nunique()"
   ]
  },
  {
   "cell_type": "code",
   "execution_count": null,
   "id": "480cbc4d-6d20-489c-9aa8-76a8d944abeb",
   "metadata": {},
   "outputs": [],
   "source": [
    "df.head()"
   ]
  },
  {
   "cell_type": "code",
   "execution_count": null,
   "id": "8d5ab2e4-de11-47cd-83d2-3bcc94db54b7",
   "metadata": {},
   "outputs": [],
   "source": [
    "df.dtypes"
   ]
  },
  {
   "cell_type": "code",
   "execution_count": null,
   "id": "3ca691d2-f054-4ca1-af0a-70da74a7989d",
   "metadata": {},
   "outputs": [],
   "source": [
    "df.businesstravel.value_counts()"
   ]
  },
  {
   "cell_type": "code",
   "execution_count": null,
   "id": "cbdec673-8dd3-4e0a-88b9-f7cb70ede8ea",
   "metadata": {},
   "outputs": [],
   "source": [
    "df.attrition.value_counts()"
   ]
  },
  {
   "cell_type": "code",
   "execution_count": null,
   "id": "aae0b871-0888-4b0c-9305-7243f1452e5b",
   "metadata": {},
   "outputs": [],
   "source": [
    "df.describe().T"
   ]
  },
  {
   "cell_type": "markdown",
   "id": "2bd94f0e-37f8-4b52-96fc-adf46003fb8b",
   "metadata": {},
   "source": [
    "<h2 style=\"color: #FF6347;\">Moving our target to the right</h2>"
   ]
  },
  {
   "cell_type": "code",
   "execution_count": null,
   "id": "765a4910-95a7-493f-a9ca-73863f39aedf",
   "metadata": {},
   "outputs": [],
   "source": [
    "target = df.pop('attrition')"
   ]
  },
  {
   "cell_type": "code",
   "execution_count": null,
   "id": "ac44e8e2-5612-4426-b228-5eaf3da09b8c",
   "metadata": {},
   "outputs": [],
   "source": [
    "df['attrition'] = target"
   ]
  },
  {
   "cell_type": "code",
   "execution_count": null,
   "id": "3633780e-fb14-4795-afd9-ff5e6c362b5a",
   "metadata": {},
   "outputs": [],
   "source": [
    "df.head(3)"
   ]
  },
  {
   "cell_type": "markdown",
   "id": "d9443a0b-692d-48a0-8379-e17be2d966db",
   "metadata": {},
   "source": [
    "<h3 style=\"color: #FF6347;\">Checking our target distribution</h3>"
   ]
  },
  {
   "cell_type": "code",
   "execution_count": null,
   "id": "aac7abdc-0145-40dc-8d91-9d3a106b505a",
   "metadata": {},
   "outputs": [],
   "source": [
    "# check distribution for target variable\n",
    "sns.countplot(x ='attrition', data = df)\n",
    "plt.savefig('attrition.png')"
   ]
  },
  {
   "cell_type": "code",
   "execution_count": null,
   "id": "c9efb0d5-2279-4146-8202-3956af05c35a",
   "metadata": {},
   "outputs": [],
   "source": [
    "df.dtypes"
   ]
  },
  {
   "cell_type": "code",
   "execution_count": null,
   "id": "6c205165-68fc-43e9-93f8-439959fdbc80",
   "metadata": {},
   "outputs": [],
   "source": [
    "df.overtime.value_counts()"
   ]
  },
  {
   "cell_type": "code",
   "execution_count": null,
   "id": "1b280223-4790-418b-a6c1-4105ab802cda",
   "metadata": {},
   "outputs": [],
   "source": [
    "df.over18.value_counts()"
   ]
  },
  {
   "cell_type": "markdown",
   "id": "dc2b037f-a1e3-44e7-8de7-5b5de8c63907",
   "metadata": {},
   "source": [
    "## Breakdown of Distance from Home by Job Role and Attrition"
   ]
  },
  {
   "cell_type": "code",
   "execution_count": null,
   "id": "a65ee50e-fcb8-40c2-bd46-c78df038bf92",
   "metadata": {},
   "outputs": [],
   "source": [
    "plt.figure(figsize=(15, 10))\n",
    "sns.boxplot(x='jobrole', y='distancefromhome', hue='attrition', data=df)\n",
    "plt.title('Breakdown of Distance from Home by Job Role and Attrition')\n",
    "plt.xticks(rotation=90)\n",
    "plt.show()\n"
   ]
  },
  {
   "cell_type": "markdown",
   "id": "07de4ed3-0b8b-4f28-9278-42118ed6f6fc",
   "metadata": {},
   "source": [
    "\"\"\"Education\n",
    "\n",
    "1 'Below College'\n",
    "2 'College'\n",
    "3 'Bachelor'\n",
    "4 'Master'\n",
    "5 'Doctor' \"\"\""
   ]
  },
  {
   "cell_type": "markdown",
   "id": "73369ee1-adf6-4a20-9926-ef16d0c5597d",
   "metadata": {},
   "source": [
    "### compare average monthly income by education and attrition"
   ]
  },
  {
   "cell_type": "code",
   "execution_count": null,
   "id": "2bd67e37-009e-49c6-aaec-a457153d17e0",
   "metadata": {},
   "outputs": [],
   "source": [
    "grouped = df.groupby(['education', 'attrition'])['monthlyincome'].mean().reset_index()\n",
    "\n",
    "# Plot the average MonthlyIncome\n",
    "plt.figure(figsize=(12, 8))\n",
    "sns.barplot(x='education', y='monthlyincome', hue='attrition', data=grouped)\n",
    "plt.title('Average Monthly Income by Education and Attrition')\n",
    "plt.xlabel('Education Level')\n",
    "plt.ylabel('Average Monthly Income')\n",
    "plt.legend(title='Attrition')\n",
    "plt.show()"
   ]
  },
  {
   "cell_type": "markdown",
   "id": "69d3a205-298b-4c5c-b091-c81919091ff1",
   "metadata": {},
   "source": [
    "#Targeted Retention Strategies: For education levels where attrition 'Yes' has significantly lower incomes than attrition 'No', consider strategies such as salary adjustments to improve retention."
   ]
  },
  {
   "cell_type": "code",
   "execution_count": null,
   "id": "26fd3825-0bfe-4bb6-9d7e-10997575df5f",
   "metadata": {},
   "outputs": [],
   "source": [
    "# in case of 5 :Identifying Key Education Levels: If certain education levels have a high average income and also high attrition, this could indicate that these employees might be leaving for better pay elsewhere."
   ]
  },
  {
   "cell_type": "markdown",
   "id": "80d9b891-2133-4079-8ee3-497fb5db3214",
   "metadata": {},
   "source": [
    "### Job Satisfaction by Attrition"
   ]
  },
  {
   "cell_type": "code",
   "execution_count": null,
   "id": "78a87eec-98c1-45c2-9165-6c7aa13b233a",
   "metadata": {},
   "outputs": [],
   "source": [
    "plt.figure(figsize=(10, 6))\n",
    "sns.boxplot(x='attrition', y='jobsatisfaction', data=df)\n",
    "plt.title('Job Satisfaction by Attrition')\n",
    "plt.show()\n"
   ]
  },
  {
   "cell_type": "code",
   "execution_count": null,
   "id": "7bc76590-69e0-4ccb-9a5f-c467d226827e",
   "metadata": {},
   "outputs": [],
   "source": [
    "### Job Satisfaction: Lower job satisfaction might correlate with higher attrition."
   ]
  },
  {
   "cell_type": "markdown",
   "id": "42783fc7-bb9a-483e-ac28-a0e3746f308c",
   "metadata": {},
   "source": [
    "### Monthly Income by Job Role and Attrition"
   ]
  },
  {
   "cell_type": "code",
   "execution_count": null,
   "id": "8fb33865-715c-486b-a226-5b12f82d05c6",
   "metadata": {},
   "outputs": [],
   "source": [
    "plt.figure(figsize=(15, 10))\n",
    "sns.boxplot(x='jobrole', y='monthlyincome', hue='attrition', data=df)\n",
    "plt.title('Monthly Income by Job Role and Attrition')\n",
    "plt.xticks(rotation=90)\n",
    "plt.show()\n"
   ]
  },
  {
   "cell_type": "markdown",
   "id": "ad66b050-7db2-449c-a866-99626802bbbb",
   "metadata": {},
   "source": [
    "### Attrition Rate by Department"
   ]
  },
  {
   "cell_type": "code",
   "execution_count": null,
   "id": "4066e879-8019-47a6-8ea8-7fb093adbd8c",
   "metadata": {},
   "outputs": [],
   "source": [
    "plt.figure(figsize=(10, 6))\n",
    "sns.countplot(x='department', hue='attrition', data=df)\n",
    "plt.title('Attrition Rate by Department')\n",
    "plt.show()"
   ]
  },
  {
   "cell_type": "markdown",
   "id": "c5b5613c-92ba-4bd1-8fa3-82a1593d87d5",
   "metadata": {},
   "source": [
    "<h2 style=\"color: #008080;\">Selecting numerical</h2>"
   ]
  },
  {
   "cell_type": "code",
   "execution_count": null,
   "id": "bd66422d-8b50-4183-9d36-34b3b70b1408",
   "metadata": {},
   "outputs": [],
   "source": [
    "num=df.select_dtypes(\"number\")"
   ]
  },
  {
   "cell_type": "markdown",
   "id": "f9d6eff3-7f4a-42b8-9745-436400d8a0ac",
   "metadata": {},
   "source": [
    "<h2 style=\"color: #008080;\">Checking Distributions</h2>"
   ]
  },
  {
   "cell_type": "code",
   "execution_count": null,
   "id": "e5d607ef-18ee-4195-942c-307aa28b6a94",
   "metadata": {},
   "outputs": [],
   "source": [
    "color = '#0072B2'\n",
    "\n",
    "# grid size\n",
    "nrows, ncols = 5, 4  # adjust for your number of features\n",
    "\n",
    "fig, axes = plt.subplots(nrows=nrows, ncols=ncols, figsize=(20, 16))\n",
    "\n",
    "axes = axes.flatten()\n",
    "\n",
    "# Plot each numerical feature\n",
    "for i, ax in enumerate(axes):\n",
    "    if i >= len(num.columns):\n",
    "        ax.set_visible(False)  # hide unesed plots\n",
    "        continue\n",
    "    ax.hist(num.iloc[:, i], bins=30, color=color, edgecolor='black')\n",
    "    ax.set_title(num.columns[i])\n",
    "\n",
    "plt.tight_layout()\n",
    "plt.show()"
   ]
  },
  {
   "cell_type": "code",
   "execution_count": null,
   "id": "2c0d39ea-6c6e-4695-b86d-330f0502f5c3",
   "metadata": {},
   "outputs": [],
   "source": [
    "num.jobsatisfaction.skew().round(2)  # jobsatisfaction"
   ]
  },
  {
   "cell_type": "code",
   "execution_count": null,
   "id": "613d6f33-c673-4c86-838e-532c7402e21d",
   "metadata": {},
   "outputs": [],
   "source": [
    "num.relationshipsatisfaction.skew().round(2)  #relationshipsatisfaction"
   ]
  },
  {
   "cell_type": "markdown",
   "id": "0a63b566-d1ce-482b-8bcf-8d38a11c246e",
   "metadata": {},
   "source": [
    "- Skewness = 0: The distribution is perfectly symmetrical, resembling a normal distribution.\n",
    "- Skewness > 0: The distribution is positively skewed (or right-skewed), meaning there is a longer tail on the right side of the distribution. The mass of the distribution is concentrated on the left of the figure.\n",
    "- Skewness < 0: The distribution is negatively skewed (or left-skewed), meaning there is a longer tail on the left side of the distribution. The mass of the distribution is concentrated on the right of the figure."
   ]
  },
  {
   "cell_type": "code",
   "execution_count": null,
   "id": "be609ca8-cbbb-4de5-ba59-40ad555967da",
   "metadata": {},
   "outputs": [],
   "source": [
    "color = '#0072B2'\n",
    "\n",
    "# grid size\n",
    "nrows, ncols = 5, 4 \n",
    "\n",
    "fig, axes = plt.subplots(nrows=nrows, ncols=ncols, figsize=(20, 16))\n",
    "\n",
    "axes = axes.flatten()\n",
    "\n",
    "for i, ax in enumerate(axes):\n",
    "    if i >= len(num.columns):\n",
    "        ax.set_visible(False)\n",
    "        continue\n",
    "    ax.boxplot(num.iloc[:, i].dropna(), vert=False, patch_artist=True, \n",
    "               boxprops=dict(facecolor=color, color='black'), \n",
    "               medianprops=dict(color='yellow'), whiskerprops=dict(color='black'), \n",
    "               capprops=dict(color='black'), flierprops=dict(marker='o', color='red', markersize=5))\n",
    "    ax.set_title(num.columns[i], fontsize=10)\n",
    "    ax.tick_params(axis='x', labelsize=8)\n",
    "\n",
    "plt.tight_layout()\n",
    "plt.show()"
   ]
  },
  {
   "cell_type": "markdown",
   "id": "ee9811e5-d43f-4379-9a69-981f854e8ee9",
   "metadata": {},
   "source": [
    "If we dig into numerical data we will find out some interesting information.\n",
    "\n",
    "Column 'EmployeeCount' is all 1s which indicate every observation is linked with 1 employee only, thanks for this info and we will drop it.\n",
    "Column 'StandardHours' is all 80s which means everyone in this dataset works as a fulltime employee and we could definitely drop it as well.\n",
    "Column 'Over18' is another interesting column which tells us every employee in this dataset is over 18 and we will drop it as well."
   ]
  },
  {
   "cell_type": "code",
   "execution_count": null,
   "id": "2b437078-b179-4ba1-badc-90cd004f01e8",
   "metadata": {},
   "outputs": [],
   "source": [
    "# drop out features that give out useless information\n",
    "df = df.drop(columns = ['employeenumber', 'employeecount', 'standardhours', 'over18'])\n",
    "df.head()"
   ]
  },
  {
   "cell_type": "code",
   "execution_count": null,
   "id": "fc9ced39-f3ea-4481-b630-e816d2903c46",
   "metadata": {},
   "outputs": [],
   "source": [
    "# visualization for numerical features\n",
    "fig, axss = plt.subplots(3,4, figsize=[15,10])\n",
    "sns.boxplot(x='attrition', y ='dailyrate', data=df, ax=axss[0][0],palette=\"Blues\")\n",
    "sns.boxplot(x='attrition', y ='age', data=df, ax=axss[0][1],palette=\"Blues\")\n",
    "sns.boxplot(x='attrition', y ='distancefromhome', data=df, ax=axss[0][2],palette=\"Blues\")\n",
    "sns.boxplot(x='attrition', y ='hourlyrate', data=df, ax=axss[0][3],palette=\"Blues\")\n",
    "sns.boxplot(x='attrition', y ='monthlyincome', data=df, ax=axss[1][0],palette=\"Blues\")\n",
    "sns.boxplot(x='attrition', y ='monthlyrate', data=df, ax=axss[1][1],palette=\"Blues\")\n",
    "sns.boxplot(x='attrition', y ='numcompaniesworked', data=df, ax=axss[1][2],palette=\"Blues\")\n",
    "sns.boxplot(x='attrition', y ='totalworkingyears', data=df, ax=axss[1][3],palette=\"Blues\")\n",
    "sns.boxplot(x='attrition', y ='yearsatcompany', data=df, ax=axss[2][0],palette=\"Blues\")\n",
    "sns.boxplot(x='attrition', y ='yearsincurrentrole', data=df, ax=axss[2][1],palette=\"Blues\")\n",
    "sns.boxplot(x='attrition', y ='yearssincelastpromotion', data=df, ax=axss[2][2],palette=\"Blues\")\n",
    "sns.boxplot(x='attrition', y ='yearswithcurrmanager', data=df, ax=axss[2][3],palette=\"Blues\")\n",
    "plt.tight_layout()\n",
    "plt.savefig('numerical_dist.png');"
   ]
  },
  {
   "cell_type": "code",
   "execution_count": null,
   "id": "4263957b-9b8f-43c1-aac3-23f457f28a6c",
   "metadata": {},
   "outputs": [],
   "source": [
    "# visualization for non numerical features\n",
    "fig,axss = plt.subplots(2,4, figsize=[15,10])\n",
    "sns.countplot(x='attrition', hue='businesstravel', data=df, ax=axss[0][0])\n",
    "sns.countplot(x='attrition', hue='department', data=df, ax=axss[0][1])\n",
    "sns.countplot(x='attrition', hue='gender', data=df, ax=axss[0][2])\n",
    "sns.countplot(x='attrition', hue='jobrole', data=df, ax=axss[0][3])\n",
    "sns.countplot(x='attrition', hue='educationfield', data=df, ax=axss[1][0])\n",
    "sns.countplot(x='attrition', hue='maritalstatus', data=df, ax=axss[1][1])\n",
    "sns.countplot(x='attrition', hue='overtime', data=df, ax=axss[1][2])\n",
    "plt.tight_layout()\n",
    "plt.savefig('cate_dist.png');"
   ]
  },
  {
   "cell_type": "markdown",
   "id": "77204a3a-099a-4078-8676-792c4152b35a",
   "metadata": {},
   "source": [
    "<h2 style=\"color: #008080;\">2. Feature engineering</h2>"
   ]
  },
  {
   "cell_type": "markdown",
   "id": "e7507d6a-c4d8-424c-a52b-26e24bfbe7ed",
   "metadata": {},
   "source": [
    "For feature engineering, we would like to check correlations between each features and tranform non numerical feature into numerical by different ways such as encoding so that we could be able to feed the feature to the model."
   ]
  },
  {
   "cell_type": "markdown",
   "id": "216e52ef-dde5-4a9d-86a5-37619e220f51",
   "metadata": {},
   "source": [
    "### Label Encoding:"
   ]
  },
  {
   "cell_type": "code",
   "execution_count": null,
   "id": "a7420cae-986c-4dfb-ab73-d49449d0f02e",
   "metadata": {},
   "outputs": [],
   "source": [
    "df['attrition']=df['attrition'].map({'No':0,'Yes':1})\n",
    "df['overtime']=df['overtime'].map({'No':0,'Yes':1})"
   ]
  },
  {
   "cell_type": "markdown",
   "id": "98ebc3ed-7a3c-41ee-8462-0b364380c13d",
   "metadata": {},
   "source": [
    "### Looking for Correlations"
   ]
  },
  {
   "cell_type": "code",
   "execution_count": null,
   "id": "d690bf74-a5fd-4648-a6b4-627a3beaba42",
   "metadata": {},
   "outputs": [],
   "source": [
    "# check correlation between numerical features and target variable\n",
    "corr_score = df[['age', 'dailyrate', 'distancefromhome', 'education',\n",
    "        'environmentsatisfaction', 'hourlyrate', 'jobinvolvement', 'joblevel',\n",
    "        'jobsatisfaction', 'monthlyincome', 'monthlyrate', 'numcompaniesworked',\n",
    "        'percentsalaryhike', 'performancerating', 'relationshipsatisfaction',\n",
    "        'stockoptionlevel', 'totalworkingyears', 'trainingtimeslastyear',\n",
    "        'worklifebalance', 'yearsatcompany', 'yearsincurrentrole',\n",
    "        'yearssincelastpromotion', 'yearswithcurrmanager', 'attrition']].corr()\n",
    "corr_score"
   ]
  },
  {
   "cell_type": "code",
   "execution_count": null,
   "id": "c088ed64-0c5d-4652-b778-674d4778330d",
   "metadata": {},
   "outputs": [],
   "source": [
    "# visualization of correlation relationships\n",
    "plt.figure(figsize=(15, 10))\n",
    "mask = np.triu(corr_score)\n",
    "sns.heatmap(corr_score,cmap=\"Oranges\",annot = True, fmt = '.2f',mask = mask,cbar_kws={\"shrink\": .5})\n",
    "plt.tight_layout()\n",
    "plt.savefig('corr.png');"
   ]
  },
  {
   "cell_type": "code",
   "execution_count": null,
   "id": "4940ef55-a115-4d8d-8e5f-7f144481e61f",
   "metadata": {},
   "outputs": [],
   "source": [
    "import matplotlib.pyplot as plt\n",
    "import pandas as pd\n",
    "# Correlation values with attrition\n",
    "pearson_correlation=num.corrwith(df['attrition'])\n",
    "\n",
    "# Convert to DataFrame for easy plotting\n",
    "correlation_df = pd.DataFrame(list(pearson_correlation.items()), columns=['Feature', 'Correlation']).dropna()\n",
    "\n",
    "# Sort by absolute value of correlation\n",
    "correlation_df['AbsCorrelation'] = correlation_df['Correlation'].abs()\n",
    "correlation_df = correlation_df.sort_values(by='AbsCorrelation', ascending=False)\n",
    "\n",
    "# Plot\n",
    "plt.figure(figsize=(12, 8))\n",
    "plt.barh(correlation_df['Feature'], correlation_df['Correlation'], color='skyblue')\n",
    "plt.xlabel('Correlation with Attrition')\n",
    "plt.title('Feature Correlations with Employee Attrition')\n",
    "plt.gca().invert_yaxis()  # Invert y-axis to have the highest correlation on top\n",
    "plt.tight_layout()\n",
    "plt.savefig('correlation_bar_plot.png')\n",
    "plt.show()\n"
   ]
  },
  {
   "cell_type": "code",
   "execution_count": null,
   "id": "f4ac53a8-681a-4ed5-af1d-d027f14e2720",
   "metadata": {},
   "outputs": [],
   "source": [
    "df.head(3)"
   ]
  },
  {
   "cell_type": "markdown",
   "id": "4a2b5860-ed44-4e01-b325-c85bae62a8c6",
   "metadata": {},
   "source": [
    " ### one-hot encoding"
   ]
  },
  {
   "cell_type": "code",
   "execution_count": null,
   "id": "659f9049-e260-4be6-89f0-b550156c1521",
   "metadata": {},
   "outputs": [],
   "source": [
    "# Apply one-hot encoding to other categorical columns\n",
    "one_hot_enc_columns = ['businesstravel', 'department', 'educationfield', 'gender', 'jobrole', 'maritalstatus']\n",
    "df = pd.get_dummies(df, columns=one_hot_enc_columns, drop_first=True)"
   ]
  },
  {
   "cell_type": "code",
   "execution_count": null,
   "id": "ca05bd03-5b66-4993-9fa1-e6e7a239af5a",
   "metadata": {},
   "outputs": [],
   "source": [
    "df= df*1"
   ]
  },
  {
   "cell_type": "code",
   "execution_count": null,
   "id": "20627a19-8717-43cb-bf22-dcc2fe654fa3",
   "metadata": {},
   "outputs": [],
   "source": [
    "df"
   ]
  },
  {
   "cell_type": "code",
   "execution_count": null,
   "id": "5f385ef5-cb2b-4a41-88e2-29810924f761",
   "metadata": {},
   "outputs": [],
   "source": [
    "df.dtypes"
   ]
  },
  {
   "cell_type": "code",
   "execution_count": null,
   "id": "8105ff1e-37dc-4a13-b168-9b3380ce41ae",
   "metadata": {},
   "outputs": [],
   "source": [
    "# Calculate the total number of employees\n",
    "total_employees = df.shape[0]\n",
    "\n",
    "# Calculate the number of employees who left\n",
    "employees_left = df[df['attrition'] == 'Yes'].shape[0]\n",
    "\n",
    "# Calculate the attrition rate\n",
    "attrition_rate = (employees_left / total_employees) * 100\n",
    "print(f\"Attrition Rate: {attrition_rate:.2f}%\")\n"
   ]
  },
  {
   "cell_type": "code",
   "execution_count": null,
   "id": "5f1159da-6ee5-41fd-91a3-06dae4cf711f",
   "metadata": {},
   "outputs": [],
   "source": [
    "# Count the number of attrition cases\n",
    "attrition_counts = df['attrition'].value_counts()\n",
    "\n",
    "# Plot the bar chart\n",
    "plt.figure(figsize=(8, 6))\n",
    "sns.barplot(x=attrition_counts.index, y=attrition_counts.values, palette='viridis')\n",
    "plt.title('Attrition Count')\n",
    "plt.xlabel('Attrition')\n",
    "plt.ylabel('Number of Employees')\n",
    "plt.show()"
   ]
  },
  {
   "cell_type": "code",
   "execution_count": null,
   "id": "7b59417a-912a-4f22-8f81-824650c8f959",
   "metadata": {},
   "outputs": [],
   "source": [
    "num.monthlyincome.skew().round(2)"
   ]
  },
  {
   "cell_type": "code",
   "execution_count": null,
   "id": "6228ed35-bcc6-4150-a6da-9a7d8a2c991c",
   "metadata": {},
   "outputs": [],
   "source": [
    "df.head()"
   ]
  },
  {
   "cell_type": "code",
   "execution_count": null,
   "id": "7353302a-42f4-421b-a336-f5f512e5f42c",
   "metadata": {},
   "outputs": [],
   "source": [
    "import pandas as pd\n",
    "from sklearn.preprocessing import StandardScaler\n",
    "# Selecting numerical features for standardization\n",
    "numerical_features = [\n",
    "    'age', 'dailyrate', 'distancefromhome', 'education', 'employeenumber', \n",
    "    'environmentsatisfaction', 'hourlyrate', 'jobinvolvement', 'joblevel', \n",
    "    'jobsatisfaction', 'monthlyincome', 'monthlyrate', 'numcompaniesworked', \n",
    "    'percentsalaryhike', 'performancerating', 'relationshipsatisfaction', \n",
    "    'stockoptionlevel', 'totalworkingyears', 'trainingtimeslastyear', \n",
    "    'worklifebalance', 'yearsatcompany', 'yearsincurrentrole', \n",
    "    'yearssincelastpromotion', 'yearswithcurrmanager'\n",
    "]\n",
    "\n",
    "# Dropping features that are constant and don't need standardization\n",
    "numerical_features = [feature for feature in numerical_features if feature in df.columns]\n",
    "\n",
    "# Initialize the StandardScaler\n",
    "scaler = StandardScaler()\n",
    "\n",
    "# Fit and transform the numerical features\n",
    "df[numerical_features] = scaler.fit_transform(df[numerical_features])\n",
    "\n",
    "# Check the result\n",
    "df.head()"
   ]
  },
  {
   "cell_type": "markdown",
   "id": "c6f0c622-9a45-4555-adfa-b18d0071e490",
   "metadata": {},
   "source": [
    "<h2 style=\"color: #008080;\">3. Model training and performance evaluation</h2>"
   ]
  },
  {
   "cell_type": "code",
   "execution_count": null,
   "id": "cd817a10-950f-47fd-9293-290446f07320",
   "metadata": {},
   "outputs": [],
   "source": [
    "# Select features and target\n",
    "X = df.drop(columns=['attrition'])\n",
    "y = df['attrition']"
   ]
  },
  {
   "cell_type": "code",
   "execution_count": null,
   "id": "d49e24ad-dcd3-4208-8a4c-28dc9b9db9a6",
   "metadata": {},
   "outputs": [],
   "source": [
    "X_train,X_test,y_train,y_test=train_test_split(X,y,test_size=0.3,random_state=42)"
   ]
  },
  {
   "cell_type": "code",
   "execution_count": null,
   "id": "163817b6-6575-4d86-9c8a-25fcf0772e2c",
   "metadata": {},
   "outputs": [],
   "source": [
    "from sklearn.linear_model import LogisticRegression\n",
    "from sklearn.metrics import accuracy_score, confusion_matrix, classification_report\n"
   ]
  },
  {
   "cell_type": "code",
   "execution_count": null,
   "id": "ec4e142a-d15f-45be-b804-47054b140d75",
   "metadata": {},
   "outputs": [],
   "source": [
    "# Initialize and train the model\n",
    "model = LogisticRegression()\n",
    "model.fit(X_train, y_train)"
   ]
  },
  {
   "cell_type": "code",
   "execution_count": null,
   "id": "be1c9df5-fc0f-49c7-8e4f-26d724e612ed",
   "metadata": {},
   "outputs": [],
   "source": [
    "# Make predictions\n",
    "y_pred = model.predict(X_test)"
   ]
  },
  {
   "cell_type": "code",
   "execution_count": null,
   "id": "05ccaaf0-ace8-4aa3-a2a2-7e01216d7b33",
   "metadata": {},
   "outputs": [],
   "source": [
    "# Evaluate the model\n",
    "accuracy = accuracy_score(y_test, y_pred)\n",
    "\n",
    "class_report = classification_report(y_test, y_pred)\n",
    "#cm = confusion_matrix(y_test, y_pred)\n",
    "#print(\"confusion matrix\",cm)\n",
    "print(\"Accuracy:\", accuracy)\n",
    "print(\"Classification Report:\\n\", class_report)"
   ]
  },
  {
   "cell_type": "code",
   "execution_count": null,
   "id": "23f01678-b488-4be4-82e2-c5fdf31514e3",
   "metadata": {},
   "outputs": [],
   "source": [
    "print(\"Test data accuracy: \",model.score(X_test,y_test))\n",
    "print(\"Train data accuracy: \", model.score(X_train, y_train))"
   ]
  },
  {
   "cell_type": "code",
   "execution_count": null,
   "id": "c1ee4255-1d75-4ddc-9ed8-e3128d504104",
   "metadata": {},
   "outputs": [],
   "source": [
    "cm = confusion_matrix(y_test, y_pred)"
   ]
  },
  {
   "cell_type": "code",
   "execution_count": null,
   "id": "1d7ca4fd-8e93-4978-908e-037329e359b2",
   "metadata": {},
   "outputs": [],
   "source": [
    "disp = ConfusionMatrixDisplay(confusion_matrix=cm)\n",
    "plt.figure(figsize=(8, 6))\n",
    "disp.plot(cmap='Oranges')  \n",
    "plt.grid(True)\n",
    "plt.show()"
   ]
  },
  {
   "cell_type": "markdown",
   "id": "4d28e9ea-b66d-4da9-8e22-3ce9931d86fe",
   "metadata": {},
   "source": [
    "### Random Forest"
   ]
  },
  {
   "cell_type": "code",
   "execution_count": null,
   "id": "199e634f-b434-48a1-a7df-54304d3c6e08",
   "metadata": {},
   "outputs": [],
   "source": [
    "from sklearn.ensemble import RandomForestRegressor\n",
    "reg=RandomForestRegressor()\n",
    "reg.fit(X_train,y_train)"
   ]
  },
  {
   "cell_type": "code",
   "execution_count": null,
   "id": "00a4e47f-34c2-40f9-86aa-d8319d7e3ee7",
   "metadata": {},
   "outputs": [],
   "source": [
    "y_pred_randomF=reg.predict(X_test)"
   ]
  },
  {
   "cell_type": "code",
   "execution_count": null,
   "id": "dd81ee49-0f76-404f-b51a-c03b356bf29a",
   "metadata": {},
   "outputs": [],
   "source": [
    "# Evaluate the model\n",
    "accuracy = accuracy_score(y_test, y_pred_randomF)\n",
    "\n",
    "class_report = classification_report(y_test, y_pred_randomF)\n",
    "\n",
    "print(\"Accuracy:\", accuracy)\n",
    "print(\"Classification Report:\\n\", class_report)"
   ]
  },
  {
   "cell_type": "code",
   "execution_count": null,
   "id": "c515b569-6c9a-49b7-b5ab-9eb6fa1f0eee",
   "metadata": {},
   "outputs": [],
   "source": [
    "from sklearn.svm import LinearSVC"
   ]
  },
  {
   "cell_type": "code",
   "execution_count": null,
   "id": "0a198a70-eac6-4dcf-8d40-809b321b24ec",
   "metadata": {},
   "outputs": [],
   "source": [
    "model = LinearSVC()\n",
    "model.fit(X_train, y_train)\n",
    "predictions = model.predict(X_test)"
   ]
  },
  {
   "cell_type": "code",
   "execution_count": null,
   "id": "f5aa8a01-8fd6-4796-b88b-f231c5ccd4d5",
   "metadata": {},
   "outputs": [],
   "source": [
    "accuracy = accuracy_score(y_test, predictions)\n",
    "print(\"Accuracy:\", accuracy)\n",
    "print(classification_report(y_test, predictions))"
   ]
  },
  {
   "cell_type": "code",
   "execution_count": null,
   "id": "87bf71c5-9e63-4ddd-bfcd-c703306289dd",
   "metadata": {},
   "outputs": [],
   "source": [
    "cm = confusion_matrix(y_test, predictions)"
   ]
  },
  {
   "cell_type": "code",
   "execution_count": null,
   "id": "dfccf584-400b-4409-b340-073882993823",
   "metadata": {},
   "outputs": [],
   "source": [
    "disp = ConfusionMatrixDisplay(confusion_matrix=cm)\n",
    "plt.figure(figsize=(8, 6))\n",
    "disp.plot(cmap='Oranges')  \n",
    "plt.grid(True)\n",
    "plt.show()"
   ]
  },
  {
   "cell_type": "markdown",
   "id": "b383036f-699e-4d1e-bb84-d4ac808b4a05",
   "metadata": {},
   "source": [
    "<h2 style=\"color: #FF6347;\">XGBoost Regressor</h2>"
   ]
  },
  {
   "cell_type": "code",
   "execution_count": null,
   "id": "8061488d-8b05-4797-a2b0-865eee7f21ab",
   "metadata": {},
   "outputs": [],
   "source": [
    "from xgboost import XGBRegressor\n",
    "xgb=XGBRegressor()\n",
    "xgb.fit(X_train,y_train)"
   ]
  },
  {
   "cell_type": "code",
   "execution_count": null,
   "id": "97caad27-ad3d-4e14-9d50-49d37b6a6e78",
   "metadata": {},
   "outputs": [],
   "source": [
    "y_pred_XGB=xgb.predict(X_test)"
   ]
  },
  {
   "cell_type": "code",
   "execution_count": null,
   "id": "77b12be8-632c-41eb-9ea8-e00d53b2404a",
   "metadata": {},
   "outputs": [],
   "source": [
    "accuracy = accuracy_score(y_test, y_pred_XGB)\n",
    "print(\"Accuracy:\", accuracy)\n",
    "print(classification_report(y_test, y_pred_XGB))"
   ]
  },
  {
   "cell_type": "code",
   "execution_count": null,
   "id": "f8ef9867-ed32-4a9f-8e02-6b846ccd557a",
   "metadata": {},
   "outputs": [],
   "source": [
    "cm = confusion_matrix(y_test, y_pred_XGB)"
   ]
  },
  {
   "cell_type": "code",
   "execution_count": null,
   "id": "59bd5780-7f60-4ea0-ad30-df9521b32256",
   "metadata": {},
   "outputs": [],
   "source": [
    "feature_names = list(X_train.columns)\n",
    "importances = reg.feature_importances_\n",
    "indices = np.argsort(importances)[::-1] # sorts indices of importances in descending order"
   ]
  },
  {
   "cell_type": "code",
   "execution_count": null,
   "id": "e2e257d0-44cc-4078-83a5-372d6dcbfebe",
   "metadata": {},
   "outputs": [],
   "source": [
    "plt.figure(figsize=(10, 6))\n",
    "plt.title(\"Feature Importances\")\n",
    "plt.bar(range(X.shape[1]), importances[indices], align=\"center\")\n",
    "plt.xticks(range(X.shape[1]), [feature_names[i] for i in indices], rotation=90)\n",
    "plt.xlabel(\"Features\")\n",
    "plt.ylabel(\"Importance\")\n",
    "plt.tight_layout()\n",
    "plt.show()"
   ]
  },
  {
   "cell_type": "markdown",
   "id": "5d560e1f-cebe-4047-9d40-45634910e6b1",
   "metadata": {},
   "source": [
    "<h2 style=\"color: #FF6347;\">Imbalance Data</h2>"
   ]
  },
  {
   "cell_type": "code",
   "execution_count": null,
   "id": "963952ac-cf96-48d6-9dc8-f42aea271987",
   "metadata": {},
   "outputs": [],
   "source": [
    "count_classes = pd.value_counts(df['attrition'])\n",
    "count_classes.plot(kind = 'bar')"
   ]
  },
  {
   "cell_type": "markdown",
   "id": "a6b1de08-f263-428a-884e-8605718abd12",
   "metadata": {},
   "source": [
    "<h2 style=\"color: #FF6347;\">Oversampling/Undersampling</h2>"
   ]
  },
  {
   "cell_type": "code",
   "execution_count": null,
   "id": "9c9e8969-8056-45fa-9ead-57798e1248d2",
   "metadata": {},
   "outputs": [],
   "source": [
    "from sklearn.utils import resample"
   ]
  },
  {
   "cell_type": "code",
   "execution_count": null,
   "id": "886593d9-5897-4401-97ee-95eb6fe79dc0",
   "metadata": {},
   "outputs": [],
   "source": [
    "train = pd.concat([X_train, y_train], axis=1)"
   ]
  },
  {
   "cell_type": "code",
   "execution_count": null,
   "id": "5b025a04-0776-48ac-a222-d92cf1ac573b",
   "metadata": {},
   "outputs": [],
   "source": [
    "no_attrition = train[train['attrition']==0]\n",
    "attrition = train[train['attrition']==1]"
   ]
  },
  {
   "cell_type": "code",
   "execution_count": null,
   "id": "3845d92a-9916-423d-b16a-2062b816edd9",
   "metadata": {},
   "outputs": [],
   "source": [
    "display(no_attrition.shape)\n",
    "display(attrition.shape)"
   ]
  },
  {
   "cell_type": "code",
   "execution_count": null,
   "id": "cde93dc5-a39a-40bc-8513-8f0e405eae72",
   "metadata": {},
   "outputs": [],
   "source": [
    "oversampled_attrition = resample(attrition,\n",
    "                                replace=True,  # Sample with replacement\n",
    "                                n_samples=len(no_attrition),  # Match number in majority class\n",
    "                                random_state=42)  # Reproducible results"
   ]
  },
  {
   "cell_type": "code",
   "execution_count": null,
   "id": "3d1d2be7-045c-4f6d-a011-1893ce89b510",
   "metadata": {},
   "outputs": [],
   "source": [
    "display(no_attrition.shape)\n",
    "display(oversampled_attrition.shape)"
   ]
  },
  {
   "cell_type": "code",
   "execution_count": null,
   "id": "e7142ef6-3913-4e54-8622-039b147f4984",
   "metadata": {},
   "outputs": [],
   "source": [
    "train_oversampled = pd.concat([no_attrition,oversampled_attrition])\n",
    "train_oversampled.sample(10)"
   ]
  },
  {
   "cell_type": "code",
   "execution_count": null,
   "id": "ef59a05e-5b36-499c-8af7-b93e408d7499",
   "metadata": {},
   "outputs": [],
   "source": [
    "X_train = train_oversampled.drop('attrition',axis = 1).copy()\n",
    "y_train = train_oversampled['attrition'].copy()"
   ]
  },
  {
   "cell_type": "code",
   "execution_count": null,
   "id": "6bb62317-cb5a-49e1-a34a-6b880cce938c",
   "metadata": {},
   "outputs": [],
   "source": [
    "model = RandomForestClassifier()\n",
    "model.fit(X_train, y_train)"
   ]
  },
  {
   "cell_type": "code",
   "execution_count": null,
   "id": "5840c964-11da-4327-a18f-f2ec645e928a",
   "metadata": {},
   "outputs": [],
   "source": [
    "len(X_test)"
   ]
  },
  {
   "cell_type": "code",
   "execution_count": null,
   "id": "4a06051e-0f5e-43e6-97f2-ab49c884ca42",
   "metadata": {},
   "outputs": [],
   "source": [
    "len(y_test)"
   ]
  },
  {
   "cell_type": "markdown",
   "id": "9749e842-16ac-4fb5-a38c-5add4c1a6af6",
   "metadata": {},
   "source": [
    "<h2 style=\"color: #FF6347;\">Model Validation</h2>"
   ]
  },
  {
   "cell_type": "code",
   "execution_count": null,
   "id": "72ea77b3-43c7-411d-9e4e-c6120e645ee5",
   "metadata": {},
   "outputs": [],
   "source": [
    "predictions = model.predict(X_test)"
   ]
  },
  {
   "cell_type": "code",
   "execution_count": null,
   "id": "155a25ce-d3e1-436f-bfe6-fae885b96f60",
   "metadata": {},
   "outputs": [],
   "source": [
    "len(predictions)"
   ]
  },
  {
   "cell_type": "code",
   "execution_count": null,
   "id": "0f44935f-37d8-4bfc-9127-243db43530ed",
   "metadata": {},
   "outputs": [],
   "source": [
    "print(classification_report(y_test, predictions))"
   ]
  },
  {
   "cell_type": "markdown",
   "id": "18632a9e-922a-4358-b785-7e325374a510",
   "metadata": {},
   "source": [
    "<h2 style=\"color: #FF6347;\">Oversampling with SMOTE</h2>"
   ]
  },
  {
   "cell_type": "code",
   "execution_count": null,
   "id": "3e01255e-2bbd-4347-a32c-e8920c7f814d",
   "metadata": {},
   "outputs": [],
   "source": [
    "from imblearn.over_sampling import SMOTE"
   ]
  },
  {
   "cell_type": "code",
   "execution_count": null,
   "id": "bb5f6e1b-f9a1-4311-abda-00d982d456ac",
   "metadata": {},
   "outputs": [],
   "source": [
    "X = df.drop(\"attrition\", axis=1)\n",
    "y = df.attrition"
   ]
  },
  {
   "cell_type": "code",
   "execution_count": null,
   "id": "60f4df55-73f4-4dbb-b630-d5cd42eb6894",
   "metadata": {},
   "outputs": [],
   "source": [
    "smote = SMOTE()\n",
    "X_sm, y_sm = smote.fit_resample(X, y)"
   ]
  },
  {
   "cell_type": "code",
   "execution_count": null,
   "id": "8df48938-35c3-4b4c-a348-57b120e56204",
   "metadata": {},
   "outputs": [],
   "source": [
    "X_train, X_test, y_train, y_test = train_test_split(X_sm, y_sm, test_size=0.3, random_state=100)"
   ]
  },
  {
   "cell_type": "code",
   "execution_count": null,
   "id": "fc17c588-d8c6-4fff-8e77-55fd8e480a98",
   "metadata": {},
   "outputs": [],
   "source": [
    "y.value_counts()"
   ]
  },
  {
   "cell_type": "code",
   "execution_count": null,
   "id": "4484f588-7b06-4ada-b1c6-35e8a0025489",
   "metadata": {},
   "outputs": [],
   "source": [
    "y_sm.value_counts()"
   ]
  },
  {
   "cell_type": "code",
   "execution_count": null,
   "id": "5b8d7950-6a8f-4b04-822e-be295680988a",
   "metadata": {},
   "outputs": [],
   "source": [
    "from sklearn.ensemble import RandomForestClassifier\n",
    "model = RandomForestClassifier()\n",
    "model.fit(X_train, y_train)"
   ]
  },
  {
   "cell_type": "code",
   "execution_count": null,
   "id": "fb3ea52a-ddf7-4f32-b4d9-23dca273d1fa",
   "metadata": {},
   "outputs": [],
   "source": [
    "predictions = model.predict(X_test)"
   ]
  },
  {
   "cell_type": "code",
   "execution_count": null,
   "id": "1a962951-9d2c-4704-bb4d-778ef5a6e583",
   "metadata": {},
   "outputs": [],
   "source": [
    "print(classification_report(y_test, predictions))"
   ]
  },
  {
   "cell_type": "code",
   "execution_count": null,
   "id": "546a3153-8995-4d99-8f93-8472ec541775",
   "metadata": {},
   "outputs": [],
   "source": [
    "cm = confusion_matrix(y_test, predictions)\n",
    "disp = ConfusionMatrixDisplay(confusion_matrix=cm)\n",
    "plt.figure(figsize=(8, 6))\n",
    "disp.plot(cmap='Oranges')  \n",
    "plt.grid(True)\n",
    "plt.show()"
   ]
  },
  {
   "cell_type": "markdown",
   "id": "566a5a80-97be-4cd2-aea2-782ec6c62f7c",
   "metadata": {},
   "source": [
    "<h2 style=\"color: #FF6347;\">Undersampling with TomeLinks</h2>"
   ]
  },
  {
   "cell_type": "code",
   "execution_count": null,
   "id": "a7e7a27b-7add-4c3e-8054-9a02b96a4c7a",
   "metadata": {},
   "outputs": [],
   "source": [
    "from imblearn.under_sampling import TomekLinks # Undersampling librarie technique"
   ]
  },
  {
   "cell_type": "code",
   "execution_count": null,
   "id": "5bb8f786-d0ba-4a18-a9cc-b203da38878d",
   "metadata": {},
   "outputs": [],
   "source": [
    "X = df.drop(\"attrition\", axis=1)\n",
    "y = df.attrition"
   ]
  },
  {
   "cell_type": "code",
   "execution_count": null,
   "id": "633955da-aae7-4156-8441-0b786b3c29aa",
   "metadata": {},
   "outputs": [],
   "source": [
    "tl = TomekLinks(sampling_strategy='majority')\n",
    "X_tl, y_tl = tl.fit_resample(X, y)"
   ]
  },
  {
   "cell_type": "code",
   "execution_count": null,
   "id": "84caec4f-e7c4-4207-9d8e-398fa59147b5",
   "metadata": {},
   "outputs": [],
   "source": [
    "X_train, X_test, y_train, y_test = train_test_split(X_tl, y_tl, test_size=0.3, random_state=100)"
   ]
  },
  {
   "cell_type": "code",
   "execution_count": null,
   "id": "b83a1d23-9886-4b24-8ece-46b4c50a62db",
   "metadata": {},
   "outputs": [],
   "source": [
    "y.value_counts()"
   ]
  },
  {
   "cell_type": "code",
   "execution_count": null,
   "id": "f0eedda6-35c8-486a-ab46-914c7d0ddd02",
   "metadata": {},
   "outputs": [],
   "source": [
    "y_tl.value_counts()"
   ]
  },
  {
   "cell_type": "code",
   "execution_count": null,
   "id": "476e1591-8d1f-4645-bce6-22ee34bb16bf",
   "metadata": {},
   "outputs": [],
   "source": [
    "model = RandomForestClassifier()\n",
    "model.fit(X_train, y_train)"
   ]
  },
  {
   "cell_type": "code",
   "execution_count": null,
   "id": "6d506302-bb2b-4741-adad-8acf6ad77773",
   "metadata": {},
   "outputs": [],
   "source": [
    "predictions = model.predict(X_test)"
   ]
  },
  {
   "cell_type": "code",
   "execution_count": null,
   "id": "8bbd2ea2-8f0a-4121-98d3-fb41549d4691",
   "metadata": {},
   "outputs": [],
   "source": [
    "print(classification_report(y_test, predictions))"
   ]
  }
 ],
 "metadata": {
  "kernelspec": {
   "display_name": "Python 3 (ipykernel)",
   "language": "python",
   "name": "python3"
  },
  "language_info": {
   "codemirror_mode": {
    "name": "ipython",
    "version": 3
   },
   "file_extension": ".py",
   "mimetype": "text/x-python",
   "name": "python",
   "nbconvert_exporter": "python",
   "pygments_lexer": "ipython3",
   "version": "3.11.7"
  }
 },
 "nbformat": 4,
 "nbformat_minor": 5
}
